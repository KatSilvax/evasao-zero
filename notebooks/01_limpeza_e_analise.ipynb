{
 "cells": [
  {
   "cell_type": "code",
   "execution_count": 5,
   "id": "9ed2ebf1",
   "metadata": {},
   "outputs": [
    {
     "ename": "ModuleNotFoundError",
     "evalue": "No module named 'pandas'",
     "output_type": "error",
     "traceback": [
      "\u001b[31m---------------------------------------------------------------------------\u001b[39m",
      "\u001b[31mModuleNotFoundError\u001b[39m                       Traceback (most recent call last)",
      "\u001b[36mCell\u001b[39m\u001b[36m \u001b[39m\u001b[32mIn[5]\u001b[39m\u001b[32m, line 1\u001b[39m\n\u001b[32m----> \u001b[39m\u001b[32m1\u001b[39m \u001b[38;5;28;01mimport\u001b[39;00m\u001b[38;5;250m \u001b[39m\u001b[34;01mpandas\u001b[39;00m\u001b[38;5;250m \u001b[39m\u001b[38;5;28;01mas\u001b[39;00m\u001b[38;5;250m \u001b[39m\u001b[34;01mpd\u001b[39;00m\n\u001b[32m      2\u001b[39m \u001b[38;5;28;01mimport\u001b[39;00m\u001b[38;5;250m \u001b[39m\u001b[34;01mre\u001b[39;00m\n\u001b[32m      3\u001b[39m \u001b[38;5;28;01mimport\u001b[39;00m\u001b[38;5;250m \u001b[39m\u001b[34;01mos\u001b[39;00m\n",
      "\u001b[31mModuleNotFoundError\u001b[39m: No module named 'pandas'"
     ]
    }
   ],
   "source": [
    "import pandas as pd\n",
    "import re\n",
    "import os"
   ]
  },
  {
   "cell_type": "markdown",
   "id": "bd2d20c0",
   "metadata": {},
   "source": [
    "# Passo 1: Carregar os dados 🧠\n"
   ]
  },
  {
   "cell_type": "markdown",
   "id": "703ee2f8",
   "metadata": {},
   "source": [
    "### Define o caminho relativo para o arquivo de dados\n",
    "### '..' significa 'voltar uma pasta' (de /notebooks para /evasao-zero)"
   ]
  },
  {
   "cell_type": "code",
   "execution_count": null,
   "id": "712f36f1",
   "metadata": {},
   "outputs": [],
   "source": [
    "caminho_dados_originais = os.path.join('..', 'data', 'planilha_original.csv')\n",
    "\n",
    "try:\n",
    "    df = pd.read_csv(caminho_dados_originais)\n",
    "    print(\"Arquivo de dados original carregado com sucesso!\")\n",
    "except FileNotFoundError:\n",
    "    print(f\"Erro: Arquivo não encontrado em '{caminho_dados_originais}'.\")\n",
    "    print(\"Verifique se o arquivo 'planilha_original.csv' está na pasta 'data'.\")"
   ]
  },
  {
   "cell_type": "markdown",
   "id": "337332be",
   "metadata": {},
   "source": [
    "# Passo 2: Limpeza e padronização 🚨"
   ]
  },
  {
   "cell_type": "code",
   "execution_count": null,
   "id": "623b42c0",
   "metadata": {},
   "outputs": [],
   "source": [
    "# Função para limpar e padronizar nomes de colunas\n",
    "def limpar_nomes_colunas(df):\n",
    "    colunas_limpas = []\n",
    "    for col in df.columns:\n",
    "        # Remove espaços no início/fim, converte para minúsculas\n",
    "        col_limpa = col.strip().lower()\n",
    "        # Substitui espaços e caracteres especiais por underscore\n",
    "        col_limpa = re.sub(r'\\s+', '_', col_limpa)\n",
    "        col_limpa = re.sub(r'[^a-z0-9_]', '', col_limpa)\n",
    "        colunas_limpas.append(col_limpa)\n",
    "    df.columns = colunas_limpas\n",
    "    return df\n",
    "\n",
    "df_limpo = limpar_nomes_colunas(df.copy())\n",
    "\n",
    "# Renomear colunas específicas para nomes mais curtos e claros\n",
    "mapeamento_nomes = {\n",
    "    'qual_seu_curso': 'curso',\n",
    "    'em_que_perodo_voc_est': 'periodo',\n",
    "    'qual_sua_idade': 'idade',\n",
    "    'com_qual_gnero_voc_se_identifica': 'genero',\n",
    "    'voc_se_considera_uma_pessoa': 'cor_raca',\n",
    "    'qual_a_renda_mensal_total_da_sua_famlia_some_os_salrios_de_todos_que_contribuem_com_as_despesas_da_casa': 'renda_familiar',\n",
    "    'voc_trabalha_atualmente': 'trabalha',\n",
    "    'voc_j_pensou_em_desistir_ou_trancar_o_curso': 'pensou_desistir',\n",
    "    'se_respondeu_sim_na_anterior_quais_foram_os_principais_motivos_que_te_levaram_a_pensar_em_desistir': 'motivos_desistencia',\n",
    "    'na_sua_opinio_o_que_a_instituio_poderia_fazer_para_ajudar_os_alunos_a_no_desistirem_dos_seus_cursos': 'feedback_melhoria'\n",
    "}\n",
    "df_limpo.rename(columns=mapeamento_nomes, inplace=True)\n",
    "\n",
    "# Padronização da coluna 'genero'\n",
    "df_limpo['genero'] = df_limpo['genero'].replace({\n",
    "    'Homem Cisgênero': 'Homem',\n",
    "    'Homem/Cisgênero': 'Homem',\n",
    "    'Mulher Cisgênero': 'Mulher'\n",
    "})\n",
    "\n",
    "# Limpeza e conversão da coluna 'periodo' para numérico\n",
    "df_limpo['periodo'] = df_limpo['periodo'].str.extract(r'(\\d+)').astype(int)\n",
    "\n",
    "# Criação de uma nova coluna categórica simplificada para 'pensou_desistir'\n",
    "def categorizar_desistencia(resposta):\n",
    "    if isinstance(resposta, str):\n",
    "        if 'Não, nunca' in resposta:\n",
    "            return 'Não'\n",
    "        if 'Sim, várias vezes' in resposta or 'Sim, uma vez' in resposta:\n",
    "            return 'Sim'\n",
    "    return 'Talvez' # Para 'Talvez' ou outros valores nulos/diferentes\n",
    "\n",
    "df_limpo['risco_evasao_declarado'] = df_limpo['pensou_desistir'].apply(categorizar_desistencia)"
   ]
  },
  {
   "cell_type": "markdown",
   "id": "d6eb232b",
   "metadata": {},
   "source": [
    "# Passo 3: Salvar os dados limpos 🎲"
   ]
  },
  {
   "cell_type": "code",
   "execution_count": null,
   "id": "1a65e3c4",
   "metadata": {},
   "outputs": [],
   "source": [
    "caminho_dados_limpos = os.path.join('..', 'data', 'dados_limpos.csv')\n",
    "df_limpo.to_csv(caminho_dados_limpos, index=False)\n",
    "\n",
    "print(f\"\\nArquivo limpo e padronizado foi salvo com sucesso em: '{caminho_dados_limpos}'\")\n",
    "\n",
    "# --- Passo 4: Verificar o Resultado ---\n",
    "print(\"\\nAmostra dos dados após a limpeza:\")\n",
    "print(df_limpo[['curso', 'periodo', 'genero', 'risco_evasao_declarado']].head())"
   ]
  }
 ],
 "metadata": {
  "kernelspec": {
   "display_name": ".venv",
   "language": "python",
   "name": "python3"
  },
  "language_info": {
   "codemirror_mode": {
    "name": "ipython",
    "version": 3
   },
   "file_extension": ".py",
   "mimetype": "text/x-python",
   "name": "python",
   "nbconvert_exporter": "python",
   "pygments_lexer": "ipython3",
   "version": "3.12.9"
  }
 },
 "nbformat": 4,
 "nbformat_minor": 5
}
