{
 "cells": [
  {
   "cell_type": "markdown",
   "id": "84a7e7c3",
   "metadata": {},
   "source": [
    "# Onde vamos focar na criação do modelo de IA."
   ]
  }
 ],
 "metadata": {
  "language_info": {
   "name": "python"
  }
 },
 "nbformat": 4,
 "nbformat_minor": 5
}
